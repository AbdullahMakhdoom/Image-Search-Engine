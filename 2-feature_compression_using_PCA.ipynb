{
  "nbformat": 4,
  "nbformat_minor": 0,
  "metadata": {
    "colab": {
      "name": "feature_compression_using_PCA.ipynb",
      "provenance": [],
      "mount_file_id": "16m6d4k8yggJb8hrdEMThHrGv3Tqxr40c",
      "authorship_tag": "ABX9TyNAlP4aOfinuLhLuP4CrAoI",
      "include_colab_link": true
    },
    "kernelspec": {
      "name": "python3",
      "display_name": "Python 3"
    }
  },
  "cells": [
    {
      "cell_type": "markdown",
      "metadata": {
        "id": "view-in-github",
        "colab_type": "text"
      },
      "source": [
        "<a href=\"https://colab.research.google.com/github/AbdullahMakhdoom/Image-Search-Engine/blob/main/feature_compression_using_PCA.ipynb\" target=\"_parent\"><img src=\"https://colab.research.google.com/assets/colab-badge.svg\" alt=\"Open In Colab\"/></a>"
      ]
    },
    {
      "cell_type": "markdown",
      "metadata": {
        "id": "Y_-Zb1CfjO7h"
      },
      "source": [
        "**Objective** : In this notebook, we will reduce the size of feature vectors for Caltech101 dataset, generated from ResNet-50, using PCA (stands for Principle Component Analysis).\n",
        "\n",
        "PCA is a statistical procedure that is considered one of the go-to techniques for dimensionality reduction. PCA does not eliminate features that are redundant enough to be removed, rather it generates a new set of features that are linear combinatino of the input features. These linear features  are orthogonal to each other, and are called as principal components.\n"
      ]
    },
    {
      "cell_type": "code",
      "metadata": {
        "id": "C0g1j43-jOew"
      },
      "source": [
        "# import necessary packages\n",
        "import numpy as np\n",
        "import pickle\n",
        "from tqdm import tqdm, tqdm_notebook\n",
        "import random\n",
        "import time\n",
        "from sklearn.manifold import TSNE\n",
        "from sklearn.decomposition import PCA\n",
        "import PIL\n",
        "from PIL import Image\n",
        "from sklearn.neighbors import NearestNeighbors\n",
        "import random\n",
        "import glob\n",
        "\n",
        "import matplotlib\n",
        "import matplotlib.pyplot as plt\n",
        "import matplotlib.image as mpimg\n",
        "matplotlib.rcParams['savefig.dpi'] = 160\n",
        "matplotlib.rcParams['figure.dpi'] = 160\n",
        "%matplotlib notebook\n"
      ],
      "execution_count": 1,
      "outputs": []
    },
    {
      "cell_type": "markdown",
      "metadata": {
        "id": "np5FnRFnzpKl"
      },
      "source": [
        "Mount the Google Drive and load the features, class_ids and filenames for Caltech101 dataset."
      ]
    },
    {
      "cell_type": "code",
      "metadata": {
        "id": "0OUvwZazzob8"
      },
      "source": [
        "feature_list = pickle.load(open('/content/drive/MyDrive/Caltech101-features/features-caltech101-resnet.pickle', 'rb'))\n",
        "filenames  = pickle.load(open('/content/drive/MyDrive/Caltech101-features/filenames-caltech101.pickle',\n",
        "                                'rb'))\n",
        "class_ids = pickle.load(open('/content/drive/MyDrive/Caltech101-features/class_ids-caltech101.pickle', 'rb'))\n"
      ],
      "execution_count": 3,
      "outputs": []
    },
    {
      "cell_type": "code",
      "metadata": {
        "id": "ak8liXQWY2kP"
      },
      "source": [
        "num_features_per_image = len(feature_list[0])"
      ],
      "execution_count": 4,
      "outputs": []
    },
    {
      "cell_type": "code",
      "metadata": {
        "id": "mo8Tt4Ve0dqn"
      },
      "source": [
        "\n",
        "# Helper function to get the classname\n",
        "def classname(str):\n",
        "    return str.split('/')[-2]\n",
        "\n",
        "\n",
        "# Helper function to get the classname and filename\n",
        "def classname_filename(str):\n",
        "    return str.split('/')[-2] + '/' + str.split('/')[-1]\n",
        "\n",
        "\n",
        "# Helper function that calculates accuracy using the nearest neighbors brute force algorithm\n",
        "def calculate_accuracy(feature_list):\n",
        "    num_nearest_neighbors = 5\n",
        "    correct_prediction = 0\n",
        "    incorrect_prediction = 0\n",
        "    neighbors = NearestNeighbors(n_neighbors=num_nearest_neighbors,\n",
        "                                 algorithm='brute',\n",
        "                                 metric='euclidean').fit(feature_list)\n",
        "    start = time.time()\n",
        "    for i in range(len(feature_list)):\n",
        "        distances, indices = neighbors.kneighbors([feature_list[i]])\n",
        "        for j in range(1, num_nearest_neighbors):\n",
        "            if (classname(filenames[i]) == classname(\n",
        "                    filenames[indices[0][j]])):\n",
        "                correct_prediction += 1\n",
        "            else:\n",
        "                incorrect_prediction += 1\n",
        "    end = time.time()\n",
        "    accuracy = round(\n",
        "        100.0 * correct_prediction /\n",
        "        (1.0 * correct_prediction + incorrect_prediction), 2), end - start\n",
        "    return accuracy"
      ],
      "execution_count": 5,
      "outputs": []
    },
    {
      "cell_type": "code",
      "metadata": {
        "colab": {
          "base_uri": "https://localhost:8080/"
        },
        "id": "ucU5ECZx0ja0",
        "outputId": "a29bc194-922b-4cc4-c765-a7ec67d65ef2"
      },
      "source": [
        "\n",
        "print(\"Accuracy on original feature set : \",\n",
        "      calculate_accuracy(feature_list[:]))"
      ],
      "execution_count": 6,
      "outputs": [
        {
          "output_type": "stream",
          "text": [
            "Accuracy on original feature set :  (88.36, 580.3341600894928)\n"
          ],
          "name": "stdout"
        }
      ]
    },
    {
      "cell_type": "code",
      "metadata": {
        "colab": {
          "base_uri": "https://localhost:8080/"
        },
        "id": "hjxoBCZY0lNN",
        "outputId": "c987cac3-9aed-4c14-8917-7fada2c810e8"
      },
      "source": [
        "pca_dimensions = [1, 2, 3, 4, 5, 10, 20, 50, 75, 100, 150, 200]\n",
        "pca_accuracy = []\n",
        "pca_time = []\n",
        "\n",
        "for dimensions in pca_dimensions:\n",
        "  pca = PCA(n_components=dimensions)\n",
        "  pca.fit(feature_list)\n",
        "  feature_list_compressed = pca.transform(feature_list[:])\n",
        "  accuracy, t = calculate_accuracy(feature_list_compressed[:])\n",
        "  pca_time.append(t)\n",
        "  pca_accuracy.append(accuracy)\n",
        "  print(\"For PCA Dimensions = \", dimensions, \",\\tAccuracy = \", accuracy, \"%\",\n",
        "        \",\\tTime = \", pca_time[-1])"
      ],
      "execution_count": 7,
      "outputs": [
        {
          "output_type": "stream",
          "text": [
            "For PCA Dimensions =  1 ,\tAccuracy =  17.92 % ,\tTime =  5.736214876174927\n",
            "For PCA Dimensions =  2 ,\tAccuracy =  26.82 % ,\tTime =  6.093822002410889\n",
            "For PCA Dimensions =  3 ,\tAccuracy =  33.71 % ,\tTime =  6.186917304992676\n",
            "For PCA Dimensions =  4 ,\tAccuracy =  40.5 % ,\tTime =  6.796564340591431\n",
            "For PCA Dimensions =  5 ,\tAccuracy =  46.39 % ,\tTime =  7.010085821151733\n",
            "For PCA Dimensions =  10 ,\tAccuracy =  66.41 % ,\tTime =  11.422756433486938\n",
            "For PCA Dimensions =  20 ,\tAccuracy =  79.76 % ,\tTime =  13.33506965637207\n",
            "For PCA Dimensions =  50 ,\tAccuracy =  86.85 % ,\tTime =  24.08836054801941\n",
            "For PCA Dimensions =  75 ,\tAccuracy =  87.99 % ,\tTime =  31.516268730163574\n",
            "For PCA Dimensions =  100 ,\tAccuracy =  88.5 % ,\tTime =  38.66898822784424\n",
            "For PCA Dimensions =  150 ,\tAccuracy =  88.75 % ,\tTime =  53.514235734939575\n",
            "For PCA Dimensions =  200 ,\tAccuracy =  88.75 % ,\tTime =  69.56403136253357\n"
          ],
          "name": "stdout"
        }
      ]
    },
    {
      "cell_type": "markdown",
      "metadata": {
        "id": "qZuYKj5d5Eq7"
      },
      "source": [
        "Plot of test time accuracy for each PCA dimension."
      ]
    },
    {
      "cell_type": "code",
      "metadata": {
        "colab": {
          "base_uri": "https://localhost:8080/",
          "height": 294
        },
        "id": "_jBrAeu55DU_",
        "outputId": "b97b13a3-f6a2-456d-e76e-933bbffeea71"
      },
      "source": [
        "f = plt.figure()\n",
        "\n",
        "matplotlib.style.use('seaborn')\n",
        "plt.plot(pca_time, pca_accuracy, 'o--', markersize=5)\n",
        "for label, x, y in zip(pca_dimensions, pca_time, pca_accuracy):\n",
        "    plt.annotate(label, xy=(x, y), ha='right', va='bottom')\n",
        "plt.title('Test Time vs Accuracy for each PCA dimension')\n",
        "plt.xlabel('Test Time')\n",
        "plt.ylabel('Accuracy')\n",
        "plt.grid(True)\n",
        "plt.show()\n",
        "\n",
        "f.savefig(\"pca-test_time_vs_acc.pdf\", bbox_inches='tight')\n",
        "f.savefig(\"pca-test_time_vs_acc.png\", bbox_inches='tight')"
      ],
      "execution_count": 8,
      "outputs": [
        {
          "output_type": "display_data",
          "data": {
            "image/png": "[encoded data removed]",
            "text/plain": [
              "<Figure size 432x288 with 1 Axes>"
            ]
          },
          "metadata": {
            "tags": [],
            "needs_background": "light"
          }
        }
      ]
    },
    {
      "cell_type": "markdown",
      "metadata": {
        "id": "KhrVkCny558o"
      },
      "source": [
        "As it can be observed in the graph, increasing dimensions beyond feature length of 100 results in very little imporvement in accuracy. \n",
        "With 20 times lesser dimensions (100) of feature vector instead of original (2048), the accuracy almost remained the same but the speed improved  almost 15 times (580/38).\n",
        "\n",
        "Hence, for the rest of the analysis of feature length we will use PCA for dimensionality reduction of feature vectors to 100 dimensions."
      ]
    }
  ]
}
