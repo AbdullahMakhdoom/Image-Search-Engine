{
  "nbformat": 4,
  "nbformat_minor": 0,
  "metadata": {
    "colab": {
      "name": "improve_search_accuracy.ipynb",
      "provenance": [],
      "mount_file_id": "1X2_sN38zCy6jO9hd-5C7U3iT-pq6Fxqn",
      "authorship_tag": "ABX9TyMWOsTymoIlLaqUjpZyWoxQ",
      "include_colab_link": true
    },
    "kernelspec": {
      "name": "python3",
      "display_name": "Python 3"
    },
    "widgets": {
      "application/vnd.jupyter.widget-state+json": {
        "1ac770e84545447fa23bf46226de0ae2": {
          "model_module": "@jupyter-widgets/controls",
          "model_name": "HBoxModel",
          "state": {
            "_view_name": "HBoxView",
            "_dom_classes": [],
            "_model_name": "HBoxModel",
            "_view_module": "@jupyter-widgets/controls",
            "_model_module_version": "1.5.0",
            "_view_count": null,
            "_view_module_version": "1.5.0",
            "box_style": "",
            "layout": "IPY_MODEL_c7add1c871294c11b2db44830bc44637",
            "_model_module": "@jupyter-widgets/controls",
            "children": [
              "IPY_MODEL_cda18c3db1d34911badfff14418130e0",
              "IPY_MODEL_ffdd0b32effe47e8a85fd385c87e02bc"
            ]
          }
        },
        "c7add1c871294c11b2db44830bc44637": {
          "model_module": "@jupyter-widgets/base",
          "model_name": "LayoutModel",
          "state": {
            "_view_name": "LayoutView",
            "grid_template_rows": null,
            "right": null,
            "justify_content": null,
            "_view_module": "@jupyter-widgets/base",
            "overflow": null,
            "_model_module_version": "1.2.0",
            "_view_count": null,
            "flex_flow": null,
            "width": null,
            "min_width": null,
            "border": null,
            "align_items": null,
            "bottom": null,
            "_model_module": "@jupyter-widgets/base",
            "top": null,
            "grid_column": null,
            "overflow_y": null,
            "overflow_x": null,
            "grid_auto_flow": null,
            "grid_area": null,
            "grid_template_columns": null,
            "flex": null,
            "_model_name": "LayoutModel",
            "justify_items": null,
            "grid_row": null,
            "max_height": null,
            "align_content": null,
            "visibility": null,
            "align_self": null,
            "height": null,
            "min_height": null,
            "padding": null,
            "grid_auto_rows": null,
            "grid_gap": null,
            "max_width": null,
            "order": null,
            "_view_module_version": "1.2.0",
            "grid_template_areas": null,
            "object_position": null,
            "object_fit": null,
            "grid_auto_columns": null,
            "margin": null,
            "display": null,
            "left": null
          }
        },
        "cda18c3db1d34911badfff14418130e0": {
          "model_module": "@jupyter-widgets/controls",
          "model_name": "FloatProgressModel",
          "state": {
            "_view_name": "ProgressView",
            "style": "IPY_MODEL_d6419963628d4409afc60888ef7f5829",
            "_dom_classes": [],
            "description": "100%",
            "_model_name": "FloatProgressModel",
            "bar_style": "success",
            "max": 8677,
            "_view_module": "@jupyter-widgets/controls",
            "_model_module_version": "1.5.0",
            "value": 8677,
            "_view_count": null,
            "_view_module_version": "1.5.0",
            "orientation": "horizontal",
            "min": 0,
            "description_tooltip": null,
            "_model_module": "@jupyter-widgets/controls",
            "layout": "IPY_MODEL_ef98934a35d645708f5efdbbe8551f2e"
          }
        },
        "ffdd0b32effe47e8a85fd385c87e02bc": {
          "model_module": "@jupyter-widgets/controls",
          "model_name": "HTMLModel",
          "state": {
            "_view_name": "HTMLView",
            "style": "IPY_MODEL_fa281cca7f6f49e3a4d51244b9bb761d",
            "_dom_classes": [],
            "description": "",
            "_model_name": "HTMLModel",
            "placeholder": "​",
            "_view_module": "@jupyter-widgets/controls",
            "_model_module_version": "1.5.0",
            "value": " 8677/8677 [2:58:08&lt;00:00,  1.23s/it]",
            "_view_count": null,
            "_view_module_version": "1.5.0",
            "description_tooltip": null,
            "_model_module": "@jupyter-widgets/controls",
            "layout": "IPY_MODEL_2211f28c3c684408b2d2f666b6c814af"
          }
        },
        "d6419963628d4409afc60888ef7f5829": {
          "model_module": "@jupyter-widgets/controls",
          "model_name": "ProgressStyleModel",
          "state": {
            "_view_name": "StyleView",
            "_model_name": "ProgressStyleModel",
            "description_width": "initial",
            "_view_module": "@jupyter-widgets/base",
            "_model_module_version": "1.5.0",
            "_view_count": null,
            "_view_module_version": "1.2.0",
            "bar_color": null,
            "_model_module": "@jupyter-widgets/controls"
          }
        },
        "ef98934a35d645708f5efdbbe8551f2e": {
          "model_module": "@jupyter-widgets/base",
          "model_name": "LayoutModel",
          "state": {
            "_view_name": "LayoutView",
            "grid_template_rows": null,
            "right": null,
            "justify_content": null,
            "_view_module": "@jupyter-widgets/base",
            "overflow": null,
            "_model_module_version": "1.2.0",
            "_view_count": null,
            "flex_flow": null,
            "width": null,
            "min_width": null,
            "border": null,
            "align_items": null,
            "bottom": null,
            "_model_module": "@jupyter-widgets/base",
            "top": null,
            "grid_column": null,
            "overflow_y": null,
            "overflow_x": null,
            "grid_auto_flow": null,
            "grid_area": null,
            "grid_template_columns": null,
            "flex": null,
            "_model_name": "LayoutModel",
            "justify_items": null,
            "grid_row": null,
            "max_height": null,
            "align_content": null,
            "visibility": null,
            "align_self": null,
            "height": null,
            "min_height": null,
            "padding": null,
            "grid_auto_rows": null,
            "grid_gap": null,
            "max_width": null,
            "order": null,
            "_view_module_version": "1.2.0",
            "grid_template_areas": null,
            "object_position": null,
            "object_fit": null,
            "grid_auto_columns": null,
            "margin": null,
            "display": null,
            "left": null
          }
        },
        "fa281cca7f6f49e3a4d51244b9bb761d": {
          "model_module": "@jupyter-widgets/controls",
          "model_name": "DescriptionStyleModel",
          "state": {
            "_view_name": "StyleView",
            "_model_name": "DescriptionStyleModel",
            "description_width": "",
            "_view_module": "@jupyter-widgets/base",
            "_model_module_version": "1.5.0",
            "_view_count": null,
            "_view_module_version": "1.2.0",
            "_model_module": "@jupyter-widgets/controls"
          }
        },
        "2211f28c3c684408b2d2f666b6c814af": {
          "model_module": "@jupyter-widgets/base",
          "model_name": "LayoutModel",
          "state": {
            "_view_name": "LayoutView",
            "grid_template_rows": null,
            "right": null,
            "justify_content": null,
            "_view_module": "@jupyter-widgets/base",
            "overflow": null,
            "_model_module_version": "1.2.0",
            "_view_count": null,
            "flex_flow": null,
            "width": null,
            "min_width": null,
            "border": null,
            "align_items": null,
            "bottom": null,
            "_model_module": "@jupyter-widgets/base",
            "top": null,
            "grid_column": null,
            "overflow_y": null,
            "overflow_x": null,
            "grid_auto_flow": null,
            "grid_area": null,
            "grid_template_columns": null,
            "flex": null,
            "_model_name": "LayoutModel",
            "justify_items": null,
            "grid_row": null,
            "max_height": null,
            "align_content": null,
            "visibility": null,
            "align_self": null,
            "height": null,
            "min_height": null,
            "padding": null,
            "grid_auto_rows": null,
            "grid_gap": null,
            "max_width": null,
            "order": null,
            "_view_module_version": "1.2.0",
            "grid_template_areas": null,
            "object_position": null,
            "object_fit": null,
            "grid_auto_columns": null,
            "margin": null,
            "display": null,
            "left": null
          }
        },
        "02c42894e37247808b6a3618ba2a929f": {
          "model_module": "@jupyter-widgets/controls",
          "model_name": "HBoxModel",
          "state": {
            "_view_name": "HBoxView",
            "_dom_classes": [],
            "_model_name": "HBoxModel",
            "_view_module": "@jupyter-widgets/controls",
            "_model_module_version": "1.5.0",
            "_view_count": null,
            "_view_module_version": "1.5.0",
            "box_style": "",
            "layout": "IPY_MODEL_cb01b00441374fe59f02706549d10075",
            "_model_module": "@jupyter-widgets/controls",
            "children": [
              "IPY_MODEL_1ab68375f6f14ada9025eb71d3d704b9",
              "IPY_MODEL_fc801abd077842dcb088860cc02356ad"
            ]
          }
        },
        "cb01b00441374fe59f02706549d10075": {
          "model_module": "@jupyter-widgets/base",
          "model_name": "LayoutModel",
          "state": {
            "_view_name": "LayoutView",
            "grid_template_rows": null,
            "right": null,
            "justify_content": null,
            "_view_module": "@jupyter-widgets/base",
            "overflow": null,
            "_model_module_version": "1.2.0",
            "_view_count": null,
            "flex_flow": null,
            "width": null,
            "min_width": null,
            "border": null,
            "align_items": null,
            "bottom": null,
            "_model_module": "@jupyter-widgets/base",
            "top": null,
            "grid_column": null,
            "overflow_y": null,
            "overflow_x": null,
            "grid_auto_flow": null,
            "grid_area": null,
            "grid_template_columns": null,
            "flex": null,
            "_model_name": "LayoutModel",
            "justify_items": null,
            "grid_row": null,
            "max_height": null,
            "align_content": null,
            "visibility": null,
            "align_self": null,
            "height": null,
            "min_height": null,
            "padding": null,
            "grid_auto_rows": null,
            "grid_gap": null,
            "max_width": null,
            "order": null,
            "_view_module_version": "1.2.0",
            "grid_template_areas": null,
            "object_position": null,
            "object_fit": null,
            "grid_auto_columns": null,
            "margin": null,
            "display": null,
            "left": null
          }
        },
        "1ab68375f6f14ada9025eb71d3d704b9": {
          "model_module": "@jupyter-widgets/controls",
          "model_name": "FloatProgressModel",
          "state": {
            "_view_name": "ProgressView",
            "style": "IPY_MODEL_75e6036111a14290a1e17d1568b4d658",
            "_dom_classes": [],
            "description": "100%",
            "_model_name": "FloatProgressModel",
            "bar_style": "success",
            "max": 8677,
            "_view_module": "@jupyter-widgets/controls",
            "_model_module_version": "1.5.0",
            "value": 8677,
            "_view_count": null,
            "_view_module_version": "1.5.0",
            "orientation": "horizontal",
            "min": 0,
            "description_tooltip": null,
            "_model_module": "@jupyter-widgets/controls",
            "layout": "IPY_MODEL_d023894d684f4c4b80565586bea0707a"
          }
        },
        "fc801abd077842dcb088860cc02356ad": {
          "model_module": "@jupyter-widgets/controls",
          "model_name": "HTMLModel",
          "state": {
            "_view_name": "HTMLView",
            "style": "IPY_MODEL_57bda6fdad3b40458f70a4bf429433f7",
            "_dom_classes": [],
            "description": "",
            "_model_name": "HTMLModel",
            "placeholder": "​",
            "_view_module": "@jupyter-widgets/controls",
            "_model_module_version": "1.5.0",
            "value": " 8677/8677 [11:20&lt;00:00, 12.74it/s]",
            "_view_count": null,
            "_view_module_version": "1.5.0",
            "description_tooltip": null,
            "_model_module": "@jupyter-widgets/controls",
            "layout": "IPY_MODEL_d9824b531eef4248b3c6f099f48e5e70"
          }
        },
        "75e6036111a14290a1e17d1568b4d658": {
          "model_module": "@jupyter-widgets/controls",
          "model_name": "ProgressStyleModel",
          "state": {
            "_view_name": "StyleView",
            "_model_name": "ProgressStyleModel",
            "description_width": "initial",
            "_view_module": "@jupyter-widgets/base",
            "_model_module_version": "1.5.0",
            "_view_count": null,
            "_view_module_version": "1.2.0",
            "bar_color": null,
            "_model_module": "@jupyter-widgets/controls"
          }
        },
        "d023894d684f4c4b80565586bea0707a": {
          "model_module": "@jupyter-widgets/base",
          "model_name": "LayoutModel",
          "state": {
            "_view_name": "LayoutView",
            "grid_template_rows": null,
            "right": null,
            "justify_content": null,
            "_view_module": "@jupyter-widgets/base",
            "overflow": null,
            "_model_module_version": "1.2.0",
            "_view_count": null,
            "flex_flow": null,
            "width": null,
            "min_width": null,
            "border": null,
            "align_items": null,
            "bottom": null,
            "_model_module": "@jupyter-widgets/base",
            "top": null,
            "grid_column": null,
            "overflow_y": null,
            "overflow_x": null,
            "grid_auto_flow": null,
            "grid_area": null,
            "grid_template_columns": null,
            "flex": null,
            "_model_name": "LayoutModel",
            "justify_items": null,
            "grid_row": null,
            "max_height": null,
            "align_content": null,
            "visibility": null,
            "align_self": null,
            "height": null,
            "min_height": null,
            "padding": null,
            "grid_auto_rows": null,
            "grid_gap": null,
            "max_width": null,
            "order": null,
            "_view_module_version": "1.2.0",
            "grid_template_areas": null,
            "object_position": null,
            "object_fit": null,
            "grid_auto_columns": null,
            "margin": null,
            "display": null,
            "left": null
          }
        },
        "57bda6fdad3b40458f70a4bf429433f7": {
          "model_module": "@jupyter-widgets/controls",
          "model_name": "DescriptionStyleModel",
          "state": {
            "_view_name": "StyleView",
            "_model_name": "DescriptionStyleModel",
            "description_width": "",
            "_view_module": "@jupyter-widgets/base",
            "_model_module_version": "1.5.0",
            "_view_count": null,
            "_view_module_version": "1.2.0",
            "_model_module": "@jupyter-widgets/controls"
          }
        },
        "d9824b531eef4248b3c6f099f48e5e70": {
          "model_module": "@jupyter-widgets/base",
          "model_name": "LayoutModel",
          "state": {
            "_view_name": "LayoutView",
            "grid_template_rows": null,
            "right": null,
            "justify_content": null,
            "_view_module": "@jupyter-widgets/base",
            "overflow": null,
            "_model_module_version": "1.2.0",
            "_view_count": null,
            "flex_flow": null,
            "width": null,
            "min_width": null,
            "border": null,
            "align_items": null,
            "bottom": null,
            "_model_module": "@jupyter-widgets/base",
            "top": null,
            "grid_column": null,
            "overflow_y": null,
            "overflow_x": null,
            "grid_auto_flow": null,
            "grid_area": null,
            "grid_template_columns": null,
            "flex": null,
            "_model_name": "LayoutModel",
            "justify_items": null,
            "grid_row": null,
            "max_height": null,
            "align_content": null,
            "visibility": null,
            "align_self": null,
            "height": null,
            "min_height": null,
            "padding": null,
            "grid_auto_rows": null,
            "grid_gap": null,
            "max_width": null,
            "order": null,
            "_view_module_version": "1.2.0",
            "grid_template_areas": null,
            "object_position": null,
            "object_fit": null,
            "grid_auto_columns": null,
            "margin": null,
            "display": null,
            "left": null
          }
        },
        "cfac4dffc0c94cbdb4d8ce14f8f49d1b": {
          "model_module": "@jupyter-widgets/controls",
          "model_name": "HBoxModel",
          "state": {
            "_view_name": "HBoxView",
            "_dom_classes": [],
            "_model_name": "HBoxModel",
            "_view_module": "@jupyter-widgets/controls",
            "_model_module_version": "1.5.0",
            "_view_count": null,
            "_view_module_version": "1.5.0",
            "box_style": "",
            "layout": "IPY_MODEL_5f6fca5e11db4993b21478c13f85474a",
            "_model_module": "@jupyter-widgets/controls",
            "children": [
              "IPY_MODEL_e694dd30ce014842a59066dae20dd761",
              "IPY_MODEL_576f140179c64bdf9922ef19b765a0b6"
            ]
          }
        },
        "5f6fca5e11db4993b21478c13f85474a": {
          "model_module": "@jupyter-widgets/base",
          "model_name": "LayoutModel",
          "state": {
            "_view_name": "LayoutView",
            "grid_template_rows": null,
            "right": null,
            "justify_content": null,
            "_view_module": "@jupyter-widgets/base",
            "overflow": null,
            "_model_module_version": "1.2.0",
            "_view_count": null,
            "flex_flow": null,
            "width": null,
            "min_width": null,
            "border": null,
            "align_items": null,
            "bottom": null,
            "_model_module": "@jupyter-widgets/base",
            "top": null,
            "grid_column": null,
            "overflow_y": null,
            "overflow_x": null,
            "grid_auto_flow": null,
            "grid_area": null,
            "grid_template_columns": null,
            "flex": null,
            "_model_name": "LayoutModel",
            "justify_items": null,
            "grid_row": null,
            "max_height": null,
            "align_content": null,
            "visibility": null,
            "align_self": null,
            "height": null,
            "min_height": null,
            "padding": null,
            "grid_auto_rows": null,
            "grid_gap": null,
            "max_width": null,
            "order": null,
            "_view_module_version": "1.2.0",
            "grid_template_areas": null,
            "object_position": null,
            "object_fit": null,
            "grid_auto_columns": null,
            "margin": null,
            "display": null,
            "left": null
          }
        },
        "e694dd30ce014842a59066dae20dd761": {
          "model_module": "@jupyter-widgets/controls",
          "model_name": "FloatProgressModel",
          "state": {
            "_view_name": "ProgressView",
            "style": "IPY_MODEL_c95ed795e48348c2830762291196588c",
            "_dom_classes": [],
            "description": "100%",
            "_model_name": "FloatProgressModel",
            "bar_style": "success",
            "max": 8677,
            "_view_module": "@jupyter-widgets/controls",
            "_model_module_version": "1.5.0",
            "value": 8677,
            "_view_count": null,
            "_view_module_version": "1.5.0",
            "orientation": "horizontal",
            "min": 0,
            "description_tooltip": null,
            "_model_module": "@jupyter-widgets/controls",
            "layout": "IPY_MODEL_e524588a6000423a8ebdbbafd3fdfb57"
          }
        },
        "576f140179c64bdf9922ef19b765a0b6": {
          "model_module": "@jupyter-widgets/controls",
          "model_name": "HTMLModel",
          "state": {
            "_view_name": "HTMLView",
            "style": "IPY_MODEL_79bab000397e4ab8aec146f697d11f0e",
            "_dom_classes": [],
            "description": "",
            "_model_name": "HTMLModel",
            "placeholder": "​",
            "_view_module": "@jupyter-widgets/controls",
            "_model_module_version": "1.5.0",
            "value": " 8677/8677 [06:30&lt;00:00, 22.21it/s]",
            "_view_count": null,
            "_view_module_version": "1.5.0",
            "description_tooltip": null,
            "_model_module": "@jupyter-widgets/controls",
            "layout": "IPY_MODEL_dc54985d509e4736834ebe332da9346e"
          }
        },
        "c95ed795e48348c2830762291196588c": {
          "model_module": "@jupyter-widgets/controls",
          "model_name": "ProgressStyleModel",
          "state": {
            "_view_name": "StyleView",
            "_model_name": "ProgressStyleModel",
            "description_width": "initial",
            "_view_module": "@jupyter-widgets/base",
            "_model_module_version": "1.5.0",
            "_view_count": null,
            "_view_module_version": "1.2.0",
            "bar_color": null,
            "_model_module": "@jupyter-widgets/controls"
          }
        },
        "e524588a6000423a8ebdbbafd3fdfb57": {
          "model_module": "@jupyter-widgets/base",
          "model_name": "LayoutModel",
          "state": {
            "_view_name": "LayoutView",
            "grid_template_rows": null,
            "right": null,
            "justify_content": null,
            "_view_module": "@jupyter-widgets/base",
            "overflow": null,
            "_model_module_version": "1.2.0",
            "_view_count": null,
            "flex_flow": null,
            "width": null,
            "min_width": null,
            "border": null,
            "align_items": null,
            "bottom": null,
            "_model_module": "@jupyter-widgets/base",
            "top": null,
            "grid_column": null,
            "overflow_y": null,
            "overflow_x": null,
            "grid_auto_flow": null,
            "grid_area": null,
            "grid_template_columns": null,
            "flex": null,
            "_model_name": "LayoutModel",
            "justify_items": null,
            "grid_row": null,
            "max_height": null,
            "align_content": null,
            "visibility": null,
            "align_self": null,
            "height": null,
            "min_height": null,
            "padding": null,
            "grid_auto_rows": null,
            "grid_gap": null,
            "max_width": null,
            "order": null,
            "_view_module_version": "1.2.0",
            "grid_template_areas": null,
            "object_position": null,
            "object_fit": null,
            "grid_auto_columns": null,
            "margin": null,
            "display": null,
            "left": null
          }
        },
        "79bab000397e4ab8aec146f697d11f0e": {
          "model_module": "@jupyter-widgets/controls",
          "model_name": "DescriptionStyleModel",
          "state": {
            "_view_name": "StyleView",
            "_model_name": "DescriptionStyleModel",
            "description_width": "",
            "_view_module": "@jupyter-widgets/base",
            "_model_module_version": "1.5.0",
            "_view_count": null,
            "_view_module_version": "1.2.0",
            "_model_module": "@jupyter-widgets/controls"
          }
        },
        "dc54985d509e4736834ebe332da9346e": {
          "model_module": "@jupyter-widgets/base",
          "model_name": "LayoutModel",
          "state": {
            "_view_name": "LayoutView",
            "grid_template_rows": null,
            "right": null,
            "justify_content": null,
            "_view_module": "@jupyter-widgets/base",
            "overflow": null,
            "_model_module_version": "1.2.0",
            "_view_count": null,
            "flex_flow": null,
            "width": null,
            "min_width": null,
            "border": null,
            "align_items": null,
            "bottom": null,
            "_model_module": "@jupyter-widgets/base",
            "top": null,
            "grid_column": null,
            "overflow_y": null,
            "overflow_x": null,
            "grid_auto_flow": null,
            "grid_area": null,
            "grid_template_columns": null,
            "flex": null,
            "_model_name": "LayoutModel",
            "justify_items": null,
            "grid_row": null,
            "max_height": null,
            "align_content": null,
            "visibility": null,
            "align_self": null,
            "height": null,
            "min_height": null,
            "padding": null,
            "grid_auto_rows": null,
            "grid_gap": null,
            "max_width": null,
            "order": null,
            "_view_module_version": "1.2.0",
            "grid_template_areas": null,
            "object_position": null,
            "object_fit": null,
            "grid_auto_columns": null,
            "margin": null,
            "display": null,
            "left": null
          }
        },
        "ae1d0cfdb2db41909fee3c6f9c0fe97d": {
          "model_module": "@jupyter-widgets/controls",
          "model_name": "HBoxModel",
          "state": {
            "_view_name": "HBoxView",
            "_dom_classes": [],
            "_model_name": "HBoxModel",
            "_view_module": "@jupyter-widgets/controls",
            "_model_module_version": "1.5.0",
            "_view_count": null,
            "_view_module_version": "1.5.0",
            "box_style": "",
            "layout": "IPY_MODEL_763a57ec697046fc8dec1fcb2684679c",
            "_model_module": "@jupyter-widgets/controls",
            "children": [
              "IPY_MODEL_57ed9081e64241dabef4ccb3f58ebf51",
              "IPY_MODEL_8e80aee7150c42c592c7ec17df7f81fd"
            ]
          }
        },
        "763a57ec697046fc8dec1fcb2684679c": {
          "model_module": "@jupyter-widgets/base",
          "model_name": "LayoutModel",
          "state": {
            "_view_name": "LayoutView",
            "grid_template_rows": null,
            "right": null,
            "justify_content": null,
            "_view_module": "@jupyter-widgets/base",
            "overflow": null,
            "_model_module_version": "1.2.0",
            "_view_count": null,
            "flex_flow": null,
            "width": null,
            "min_width": null,
            "border": null,
            "align_items": null,
            "bottom": null,
            "_model_module": "@jupyter-widgets/base",
            "top": null,
            "grid_column": null,
            "overflow_y": null,
            "overflow_x": null,
            "grid_auto_flow": null,
            "grid_area": null,
            "grid_template_columns": null,
            "flex": null,
            "_model_name": "LayoutModel",
            "justify_items": null,
            "grid_row": null,
            "max_height": null,
            "align_content": null,
            "visibility": null,
            "align_self": null,
            "height": null,
            "min_height": null,
            "padding": null,
            "grid_auto_rows": null,
            "grid_gap": null,
            "max_width": null,
            "order": null,
            "_view_module_version": "1.2.0",
            "grid_template_areas": null,
            "object_position": null,
            "object_fit": null,
            "grid_auto_columns": null,
            "margin": null,
            "display": null,
            "left": null
          }
        },
        "57ed9081e64241dabef4ccb3f58ebf51": {
          "model_module": "@jupyter-widgets/controls",
          "model_name": "FloatProgressModel",
          "state": {
            "_view_name": "ProgressView",
            "style": "IPY_MODEL_2d5f2889aba9448ba80e7f6860c9fb33",
            "_dom_classes": [],
            "description": "100%",
            "_model_name": "FloatProgressModel",
            "bar_style": "success",
            "max": 8677,
            "_view_module": "@jupyter-widgets/controls",
            "_model_module_version": "1.5.0",
            "value": 8677,
            "_view_count": null,
            "_view_module_version": "1.5.0",
            "orientation": "horizontal",
            "min": 0,
            "description_tooltip": null,
            "_model_module": "@jupyter-widgets/controls",
            "layout": "IPY_MODEL_418097a411d9408ea618eaba9823f445"
          }
        },
        "8e80aee7150c42c592c7ec17df7f81fd": {
          "model_module": "@jupyter-widgets/controls",
          "model_name": "HTMLModel",
          "state": {
            "_view_name": "HTMLView",
            "style": "IPY_MODEL_4c98943ef4f24be6bc7118761727cc2e",
            "_dom_classes": [],
            "description": "",
            "_model_name": "HTMLModel",
            "placeholder": "​",
            "_view_module": "@jupyter-widgets/controls",
            "_model_module_version": "1.5.0",
            "value": " 8677/8677 [05:47&lt;00:00, 24.97it/s]",
            "_view_count": null,
            "_view_module_version": "1.5.0",
            "description_tooltip": null,
            "_model_module": "@jupyter-widgets/controls",
            "layout": "IPY_MODEL_4ad728d651024c778ae369d2f9dae5ee"
          }
        },
        "2d5f2889aba9448ba80e7f6860c9fb33": {
          "model_module": "@jupyter-widgets/controls",
          "model_name": "ProgressStyleModel",
          "state": {
            "_view_name": "StyleView",
            "_model_name": "ProgressStyleModel",
            "description_width": "initial",
            "_view_module": "@jupyter-widgets/base",
            "_model_module_version": "1.5.0",
            "_view_count": null,
            "_view_module_version": "1.2.0",
            "bar_color": null,
            "_model_module": "@jupyter-widgets/controls"
          }
        },
        "418097a411d9408ea618eaba9823f445": {
          "model_module": "@jupyter-widgets/base",
          "model_name": "LayoutModel",
          "state": {
            "_view_name": "LayoutView",
            "grid_template_rows": null,
            "right": null,
            "justify_content": null,
            "_view_module": "@jupyter-widgets/base",
            "overflow": null,
            "_model_module_version": "1.2.0",
            "_view_count": null,
            "flex_flow": null,
            "width": null,
            "min_width": null,
            "border": null,
            "align_items": null,
            "bottom": null,
            "_model_module": "@jupyter-widgets/base",
            "top": null,
            "grid_column": null,
            "overflow_y": null,
            "overflow_x": null,
            "grid_auto_flow": null,
            "grid_area": null,
            "grid_template_columns": null,
            "flex": null,
            "_model_name": "LayoutModel",
            "justify_items": null,
            "grid_row": null,
            "max_height": null,
            "align_content": null,
            "visibility": null,
            "align_self": null,
            "height": null,
            "min_height": null,
            "padding": null,
            "grid_auto_rows": null,
            "grid_gap": null,
            "max_width": null,
            "order": null,
            "_view_module_version": "1.2.0",
            "grid_template_areas": null,
            "object_position": null,
            "object_fit": null,
            "grid_auto_columns": null,
            "margin": null,
            "display": null,
            "left": null
          }
        },
        "4c98943ef4f24be6bc7118761727cc2e": {
          "model_module": "@jupyter-widgets/controls",
          "model_name": "DescriptionStyleModel",
          "state": {
            "_view_name": "StyleView",
            "_model_name": "DescriptionStyleModel",
            "description_width": "",
            "_view_module": "@jupyter-widgets/base",
            "_model_module_version": "1.5.0",
            "_view_count": null,
            "_view_module_version": "1.2.0",
            "_model_module": "@jupyter-widgets/controls"
          }
        },
        "4ad728d651024c778ae369d2f9dae5ee": {
          "model_module": "@jupyter-widgets/base",
          "model_name": "LayoutModel",
          "state": {
            "_view_name": "LayoutView",
            "grid_template_rows": null,
            "right": null,
            "justify_content": null,
            "_view_module": "@jupyter-widgets/base",
            "overflow": null,
            "_model_module_version": "1.2.0",
            "_view_count": null,
            "flex_flow": null,
            "width": null,
            "min_width": null,
            "border": null,
            "align_items": null,
            "bottom": null,
            "_model_module": "@jupyter-widgets/base",
            "top": null,
            "grid_column": null,
            "overflow_y": null,
            "overflow_x": null,
            "grid_auto_flow": null,
            "grid_area": null,
            "grid_template_columns": null,
            "flex": null,
            "_model_name": "LayoutModel",
            "justify_items": null,
            "grid_row": null,
            "max_height": null,
            "align_content": null,
            "visibility": null,
            "align_self": null,
            "height": null,
            "min_height": null,
            "padding": null,
            "grid_auto_rows": null,
            "grid_gap": null,
            "max_width": null,
            "order": null,
            "_view_module_version": "1.2.0",
            "grid_template_areas": null,
            "object_position": null,
            "object_fit": null,
            "grid_auto_columns": null,
            "margin": null,
            "display": null,
            "left": null
          }
        },
        "fbf3cdd11831495d889e8c613a6cb905": {
          "model_module": "@jupyter-widgets/controls",
          "model_name": "HBoxModel",
          "state": {
            "_view_name": "HBoxView",
            "_dom_classes": [],
            "_model_name": "HBoxModel",
            "_view_module": "@jupyter-widgets/controls",
            "_model_module_version": "1.5.0",
            "_view_count": null,
            "_view_module_version": "1.5.0",
            "box_style": "",
            "layout": "IPY_MODEL_b1a3cd33e1dd4341a8e2c8004a99ded6",
            "_model_module": "@jupyter-widgets/controls",
            "children": [
              "IPY_MODEL_dcce513d2ef64db89639258fb9563e6d",
              "IPY_MODEL_923bf6ea72b14dd4945f7bd1978a7ec4"
            ]
          }
        },
        "b1a3cd33e1dd4341a8e2c8004a99ded6": {
          "model_module": "@jupyter-widgets/base",
          "model_name": "LayoutModel",
          "state": {
            "_view_name": "LayoutView",
            "grid_template_rows": null,
            "right": null,
            "justify_content": null,
            "_view_module": "@jupyter-widgets/base",
            "overflow": null,
            "_model_module_version": "1.2.0",
            "_view_count": null,
            "flex_flow": null,
            "width": null,
            "min_width": null,
            "border": null,
            "align_items": null,
            "bottom": null,
            "_model_module": "@jupyter-widgets/base",
            "top": null,
            "grid_column": null,
            "overflow_y": null,
            "overflow_x": null,
            "grid_auto_flow": null,
            "grid_area": null,
            "grid_template_columns": null,
            "flex": null,
            "_model_name": "LayoutModel",
            "justify_items": null,
            "grid_row": null,
            "max_height": null,
            "align_content": null,
            "visibility": null,
            "align_self": null,
            "height": null,
            "min_height": null,
            "padding": null,
            "grid_auto_rows": null,
            "grid_gap": null,
            "max_width": null,
            "order": null,
            "_view_module_version": "1.2.0",
            "grid_template_areas": null,
            "object_position": null,
            "object_fit": null,
            "grid_auto_columns": null,
            "margin": null,
            "display": null,
            "left": null
          }
        },
        "dcce513d2ef64db89639258fb9563e6d": {
          "model_module": "@jupyter-widgets/controls",
          "model_name": "FloatProgressModel",
          "state": {
            "_view_name": "ProgressView",
            "style": "IPY_MODEL_6efe14176c5846dab433cd0cc3790d7c",
            "_dom_classes": [],
            "description": "100%",
            "_model_name": "FloatProgressModel",
            "bar_style": "success",
            "max": 8677,
            "_view_module": "@jupyter-widgets/controls",
            "_model_module_version": "1.5.0",
            "value": 8677,
            "_view_count": null,
            "_view_module_version": "1.5.0",
            "orientation": "horizontal",
            "min": 0,
            "description_tooltip": null,
            "_model_module": "@jupyter-widgets/controls",
            "layout": "IPY_MODEL_114e2b61cd2a49afae34a37b1054c3a7"
          }
        },
        "923bf6ea72b14dd4945f7bd1978a7ec4": {
          "model_module": "@jupyter-widgets/controls",
          "model_name": "HTMLModel",
          "state": {
            "_view_name": "HTMLView",
            "style": "IPY_MODEL_f6312d2311b646b7a04c328b9766f706",
            "_dom_classes": [],
            "description": "",
            "_model_name": "HTMLModel",
            "placeholder": "​",
            "_view_module": "@jupyter-widgets/controls",
            "_model_module_version": "1.5.0",
            "value": " 8677/8677 [13:52&lt;00:00, 10.42it/s]",
            "_view_count": null,
            "_view_module_version": "1.5.0",
            "description_tooltip": null,
            "_model_module": "@jupyter-widgets/controls",
            "layout": "IPY_MODEL_b7cd2d62e5a443cba1fcac577f965c41"
          }
        },
        "6efe14176c5846dab433cd0cc3790d7c": {
          "model_module": "@jupyter-widgets/controls",
          "model_name": "ProgressStyleModel",
          "state": {
            "_view_name": "StyleView",
            "_model_name": "ProgressStyleModel",
            "description_width": "initial",
            "_view_module": "@jupyter-widgets/base",
            "_model_module_version": "1.5.0",
            "_view_count": null,
            "_view_module_version": "1.2.0",
            "bar_color": null,
            "_model_module": "@jupyter-widgets/controls"
          }
        },
        "114e2b61cd2a49afae34a37b1054c3a7": {
          "model_module": "@jupyter-widgets/base",
          "model_name": "LayoutModel",
          "state": {
            "_view_name": "LayoutView",
            "grid_template_rows": null,
            "right": null,
            "justify_content": null,
            "_view_module": "@jupyter-widgets/base",
            "overflow": null,
            "_model_module_version": "1.2.0",
            "_view_count": null,
            "flex_flow": null,
            "width": null,
            "min_width": null,
            "border": null,
            "align_items": null,
            "bottom": null,
            "_model_module": "@jupyter-widgets/base",
            "top": null,
            "grid_column": null,
            "overflow_y": null,
            "overflow_x": null,
            "grid_auto_flow": null,
            "grid_area": null,
            "grid_template_columns": null,
            "flex": null,
            "_model_name": "LayoutModel",
            "justify_items": null,
            "grid_row": null,
            "max_height": null,
            "align_content": null,
            "visibility": null,
            "align_self": null,
            "height": null,
            "min_height": null,
            "padding": null,
            "grid_auto_rows": null,
            "grid_gap": null,
            "max_width": null,
            "order": null,
            "_view_module_version": "1.2.0",
            "grid_template_areas": null,
            "object_position": null,
            "object_fit": null,
            "grid_auto_columns": null,
            "margin": null,
            "display": null,
            "left": null
          }
        },
        "f6312d2311b646b7a04c328b9766f706": {
          "model_module": "@jupyter-widgets/controls",
          "model_name": "DescriptionStyleModel",
          "state": {
            "_view_name": "StyleView",
            "_model_name": "DescriptionStyleModel",
            "description_width": "",
            "_view_module": "@jupyter-widgets/base",
            "_model_module_version": "1.5.0",
            "_view_count": null,
            "_view_module_version": "1.2.0",
            "_model_module": "@jupyter-widgets/controls"
          }
        },
        "b7cd2d62e5a443cba1fcac577f965c41": {
          "model_module": "@jupyter-widgets/base",
          "model_name": "LayoutModel",
          "state": {
            "_view_name": "LayoutView",
            "grid_template_rows": null,
            "right": null,
            "justify_content": null,
            "_view_module": "@jupyter-widgets/base",
            "overflow": null,
            "_model_module_version": "1.2.0",
            "_view_count": null,
            "flex_flow": null,
            "width": null,
            "min_width": null,
            "border": null,
            "align_items": null,
            "bottom": null,
            "_model_module": "@jupyter-widgets/base",
            "top": null,
            "grid_column": null,
            "overflow_y": null,
            "overflow_x": null,
            "grid_auto_flow": null,
            "grid_area": null,
            "grid_template_columns": null,
            "flex": null,
            "_model_name": "LayoutModel",
            "justify_items": null,
            "grid_row": null,
            "max_height": null,
            "align_content": null,
            "visibility": null,
            "align_self": null,
            "height": null,
            "min_height": null,
            "padding": null,
            "grid_auto_rows": null,
            "grid_gap": null,
            "max_width": null,
            "order": null,
            "_view_module_version": "1.2.0",
            "grid_template_areas": null,
            "object_position": null,
            "object_fit": null,
            "grid_auto_columns": null,
            "margin": null,
            "display": null,
            "left": null
          }
        },
        "c3cf194b0b4d42d7989ef3fcd662d6a9": {
          "model_module": "@jupyter-widgets/controls",
          "model_name": "HBoxModel",
          "state": {
            "_view_name": "HBoxView",
            "_dom_classes": [],
            "_model_name": "HBoxModel",
            "_view_module": "@jupyter-widgets/controls",
            "_model_module_version": "1.5.0",
            "_view_count": null,
            "_view_module_version": "1.5.0",
            "box_style": "",
            "layout": "IPY_MODEL_e069f95b74df4bfcaba3c0b03cde6aff",
            "_model_module": "@jupyter-widgets/controls",
            "children": [
              "IPY_MODEL_28d54843ff164239ac5e65d751ab212c",
              "IPY_MODEL_2cd4000e6b3f4738888762906f0edff2"
            ]
          }
        },
        "e069f95b74df4bfcaba3c0b03cde6aff": {
          "model_module": "@jupyter-widgets/base",
          "model_name": "LayoutModel",
          "state": {
            "_view_name": "LayoutView",
            "grid_template_rows": null,
            "right": null,
            "justify_content": null,
            "_view_module": "@jupyter-widgets/base",
            "overflow": null,
            "_model_module_version": "1.2.0",
            "_view_count": null,
            "flex_flow": null,
            "width": null,
            "min_width": null,
            "border": null,
            "align_items": null,
            "bottom": null,
            "_model_module": "@jupyter-widgets/base",
            "top": null,
            "grid_column": null,
            "overflow_y": null,
            "overflow_x": null,
            "grid_auto_flow": null,
            "grid_area": null,
            "grid_template_columns": null,
            "flex": null,
            "_model_name": "LayoutModel",
            "justify_items": null,
            "grid_row": null,
            "max_height": null,
            "align_content": null,
            "visibility": null,
            "align_self": null,
            "height": null,
            "min_height": null,
            "padding": null,
            "grid_auto_rows": null,
            "grid_gap": null,
            "max_width": null,
            "order": null,
            "_view_module_version": "1.2.0",
            "grid_template_areas": null,
            "object_position": null,
            "object_fit": null,
            "grid_auto_columns": null,
            "margin": null,
            "display": null,
            "left": null
          }
        },
        "28d54843ff164239ac5e65d751ab212c": {
          "model_module": "@jupyter-widgets/controls",
          "model_name": "FloatProgressModel",
          "state": {
            "_view_name": "ProgressView",
            "style": "IPY_MODEL_ce7659ce6d35451db9bf16c9489a4967",
            "_dom_classes": [],
            "description": "100%",
            "_model_name": "FloatProgressModel",
            "bar_style": "success",
            "max": 8677,
            "_view_module": "@jupyter-widgets/controls",
            "_model_module_version": "1.5.0",
            "value": 8677,
            "_view_count": null,
            "_view_module_version": "1.5.0",
            "orientation": "horizontal",
            "min": 0,
            "description_tooltip": null,
            "_model_module": "@jupyter-widgets/controls",
            "layout": "IPY_MODEL_5cc4f030365741a28bb9e5631c98ec9b"
          }
        },
        "2cd4000e6b3f4738888762906f0edff2": {
          "model_module": "@jupyter-widgets/controls",
          "model_name": "HTMLModel",
          "state": {
            "_view_name": "HTMLView",
            "style": "IPY_MODEL_2b7798eb04724ba8a64b2482b7c85fb3",
            "_dom_classes": [],
            "description": "",
            "_model_name": "HTMLModel",
            "placeholder": "​",
            "_view_module": "@jupyter-widgets/controls",
            "_model_module_version": "1.5.0",
            "value": " 8677/8677 [05:39&lt;00:00, 25.52it/s]",
            "_view_count": null,
            "_view_module_version": "1.5.0",
            "description_tooltip": null,
            "_model_module": "@jupyter-widgets/controls",
            "layout": "IPY_MODEL_65b785b0aca84c34a33f6b5d3ba27ee3"
          }
        },
        "ce7659ce6d35451db9bf16c9489a4967": {
          "model_module": "@jupyter-widgets/controls",
          "model_name": "ProgressStyleModel",
          "state": {
            "_view_name": "StyleView",
            "_model_name": "ProgressStyleModel",
            "description_width": "initial",
            "_view_module": "@jupyter-widgets/base",
            "_model_module_version": "1.5.0",
            "_view_count": null,
            "_view_module_version": "1.2.0",
            "bar_color": null,
            "_model_module": "@jupyter-widgets/controls"
          }
        },
        "5cc4f030365741a28bb9e5631c98ec9b": {
          "model_module": "@jupyter-widgets/base",
          "model_name": "LayoutModel",
          "state": {
            "_view_name": "LayoutView",
            "grid_template_rows": null,
            "right": null,
            "justify_content": null,
            "_view_module": "@jupyter-widgets/base",
            "overflow": null,
            "_model_module_version": "1.2.0",
            "_view_count": null,
            "flex_flow": null,
            "width": null,
            "min_width": null,
            "border": null,
            "align_items": null,
            "bottom": null,
            "_model_module": "@jupyter-widgets/base",
            "top": null,
            "grid_column": null,
            "overflow_y": null,
            "overflow_x": null,
            "grid_auto_flow": null,
            "grid_area": null,
            "grid_template_columns": null,
            "flex": null,
            "_model_name": "LayoutModel",
            "justify_items": null,
            "grid_row": null,
            "max_height": null,
            "align_content": null,
            "visibility": null,
            "align_self": null,
            "height": null,
            "min_height": null,
            "padding": null,
            "grid_auto_rows": null,
            "grid_gap": null,
            "max_width": null,
            "order": null,
            "_view_module_version": "1.2.0",
            "grid_template_areas": null,
            "object_position": null,
            "object_fit": null,
            "grid_auto_columns": null,
            "margin": null,
            "display": null,
            "left": null
          }
        },
        "2b7798eb04724ba8a64b2482b7c85fb3": {
          "model_module": "@jupyter-widgets/controls",
          "model_name": "DescriptionStyleModel",
          "state": {
            "_view_name": "StyleView",
            "_model_name": "DescriptionStyleModel",
            "description_width": "",
            "_view_module": "@jupyter-widgets/base",
            "_model_module_version": "1.5.0",
            "_view_count": null,
            "_view_module_version": "1.2.0",
            "_model_module": "@jupyter-widgets/controls"
          }
        },
        "65b785b0aca84c34a33f6b5d3ba27ee3": {
          "model_module": "@jupyter-widgets/base",
          "model_name": "LayoutModel",
          "state": {
            "_view_name": "LayoutView",
            "grid_template_rows": null,
            "right": null,
            "justify_content": null,
            "_view_module": "@jupyter-widgets/base",
            "overflow": null,
            "_model_module_version": "1.2.0",
            "_view_count": null,
            "flex_flow": null,
            "width": null,
            "min_width": null,
            "border": null,
            "align_items": null,
            "bottom": null,
            "_model_module": "@jupyter-widgets/base",
            "top": null,
            "grid_column": null,
            "overflow_y": null,
            "overflow_x": null,
            "grid_auto_flow": null,
            "grid_area": null,
            "grid_template_columns": null,
            "flex": null,
            "_model_name": "LayoutModel",
            "justify_items": null,
            "grid_row": null,
            "max_height": null,
            "align_content": null,
            "visibility": null,
            "align_self": null,
            "height": null,
            "min_height": null,
            "padding": null,
            "grid_auto_rows": null,
            "grid_gap": null,
            "max_width": null,
            "order": null,
            "_view_module_version": "1.2.0",
            "grid_template_areas": null,
            "object_position": null,
            "object_fit": null,
            "grid_auto_columns": null,
            "margin": null,
            "display": null,
            "left": null
          }
        }
      }
    }
  },
  "cells": [
    {
      "cell_type": "markdown",
      "metadata": {
        "id": "view-in-github",
        "colab_type": "text"
      },
      "source": [
        "<a href=\"https://colab.research.google.com/github/AbdullahMakhdoom/Image-Search-Engine/blob/main/improve_search_accuracy.ipynb\" target=\"_parent\"><img src=\"https://colab.research.google.com/assets/colab-badge.svg\" alt=\"Open In Colab\"/></a>"
      ]
    },
    {
      "cell_type": "markdown",
      "metadata": {
        "id": "f6RVUzJ5_zmJ"
      },
      "source": [
        "**Objective** : Although the pre-trained models (trained on ImageNet dataset) provide a good starting point for similarity computation in most scenarios, yet if we tune the model to adapt to our specific problem's dataset, the model will perform even more accurately to find similar images.\n",
        "\n",
        "  In this notebook, we will compare the search accuracy of pre-trained Caltech101 features (generated from ResNet-50 pre-trained on ImageNet) with the fine-tuned ResNet-50 features(fine-tuned on Caltech101).\n",
        "The fine-tuning was performed in 'feature-extraction.ipynb' notebook and saved in Google Drive '.pickle' files.\n",
        "\n",
        "We will also visualize how fine-tuning results in more cleaner seperation of clusters using t-SNE."
      ]
    },
    {
      "cell_type": "code",
      "metadata": {
        "id": "hVAUAshD_Lfk"
      },
      "source": [
        "# import all required packages\n",
        "import numpy as np\n",
        "import pickle\n",
        "from tqdm import tqdm, tqdm_notebook\n",
        "import random\n",
        "import time\n",
        "from sklearn.manifold import TSNE\n",
        "from sklearn.decomposition import PCA\n",
        "import PIL\n",
        "from PIL import Image\n",
        "from sklearn.neighbors import NearestNeighbors\n",
        "from textwrap import wrap\n",
        "\n",
        "import glob\n",
        "import matplotlib\n",
        "import matplotlib.pyplot as plt\n",
        "import matplotlib.image as mpimg\n",
        "%matplotlib inline"
      ],
      "execution_count": 2,
      "outputs": []
    },
    {
      "cell_type": "markdown",
      "metadata": {
        "id": "fTpLhRQwITVW"
      },
      "source": [
        "Mount the Google drive before loading the pre-trained and fine-tuned '.pickle' files"
      ]
    },
    {
      "cell_type": "code",
      "metadata": {
        "id": "tJlrPY9kINl4"
      },
      "source": [
        "feature_list = pickle.load(open('/content/drive/MyDrive/Caltech101-features/features-caltech101-resnet.pickle',\n",
        "                                'rb'))\n",
        "finetuned_feature_list = pickle.load(open('/content/drive/MyDrive/Caltech101-features/features-caltech101-resnet-finetuned.pickle',\n",
        "                                          'rb'))"
      ],
      "execution_count": 28,
      "outputs": []
    },
    {
      "cell_type": "code",
      "metadata": {
        "id": "-a1EFro9JNuD"
      },
      "source": [
        "# Also load the filenames and class_ids\n",
        "filenames = pickle.load(open('/content/drive/MyDrive/Caltech101-features/filenames-caltech101.pickle', 'rb'))\n",
        "class_ids = pickle.load(open('/content/drive/MyDrive/Caltech101-features/class_ids-caltech101.pickle', 'rb'))"
      ],
      "execution_count": 4,
      "outputs": []
    },
    {
      "cell_type": "markdown",
      "metadata": {
        "id": "twQxDOjPJ5yk"
      },
      "source": [
        "### Helper Functions"
      ]
    },
    {
      "cell_type": "code",
      "metadata": {
        "id": "X09qLxLlJnAH"
      },
      "source": [
        "# Helper function to get the classname\n",
        "def classname(str):\n",
        "    return str.split('/')[-2]\n",
        "\n",
        "\n",
        "# Helper function to get the classname and filename\n",
        "def classname_filename(str):\n",
        "    return str.split('/')[-2] + '/' + str.split('/')[-1]\n",
        "\n",
        "# Helper function to calculate accuracy\n",
        "def calculate_accuracy(feature_list):\n",
        "    num_nearest_neighbors = 5\n",
        "    correct_predictions = 0\n",
        "    incorrect_predictions = 0\n",
        "    neighbors = NearestNeighbors(n_neighbors=num_nearest_neighbors,\n",
        "                                 algorithm='brute',\n",
        "                                 metric='euclidean').fit(feature_list)\n",
        "    for i in tqdm_notebook(range(len(feature_list))):\n",
        "        distances, indices = neighbors.kneighbors([feature_list[i]])\n",
        "        for j in range(1, num_nearest_neighbors):\n",
        "            if (classname(filenames[i]) == classname(\n",
        "                    filenames[indices[0][j]])):\n",
        "                correct_predictions += 1\n",
        "            else:\n",
        "                incorrect_predictions += 1\n",
        "    print(\n",
        "        \"Accuracy is \",\n",
        "        round(\n",
        "            100.0 * correct_predictions /\n",
        "            (1.0 * correct_predictions + incorrect_predictions), 2))\n",
        "    \n",
        "# Helper function to dis"
      ],
      "execution_count": 8,
      "outputs": []
    },
    {
      "cell_type": "markdown",
      "metadata": {
        "id": "7gjbdv62J7oj"
      },
      "source": [
        "####1. Accuracy of Brute Force over Caltech101 features"
      ]
    },
    {
      "cell_type": "code",
      "metadata": {
        "colab": {
          "base_uri": "https://localhost:8080/",
          "height": 137,
          "referenced_widgets": [
            "1ac770e84545447fa23bf46226de0ae2",
            "c7add1c871294c11b2db44830bc44637",
            "cda18c3db1d34911badfff14418130e0",
            "ffdd0b32effe47e8a85fd385c87e02bc",
            "d6419963628d4409afc60888ef7f5829",
            "ef98934a35d645708f5efdbbe8551f2e",
            "fa281cca7f6f49e3a4d51244b9bb761d",
            "2211f28c3c684408b2d2f666b6c814af"
          ]
        },
        "id": "GcQEvil9J8PU",
        "outputId": "a6ddc0b6-7ed3-42ed-aaae-a58669b733e2"
      },
      "source": [
        "calculate_accuracy(feature_list[:])\n"
      ],
      "execution_count": 9,
      "outputs": [
        {
          "output_type": "stream",
          "text": [
            "/usr/local/lib/python3.7/dist-packages/ipykernel_launcher.py:18: TqdmDeprecationWarning: This function will be removed in tqdm==5.0.0\n",
            "Please use `tqdm.notebook.tqdm` instead of `tqdm.tqdm_notebook`\n"
          ],
          "name": "stderr"
        },
        {
          "output_type": "display_data",
          "data": {
            "application/vnd.jupyter.widget-view+json": {
              "model_id": "1ac770e84545447fa23bf46226de0ae2",
              "version_minor": 0,
              "version_major": 2
            },
            "text/plain": [
              "HBox(children=(FloatProgress(value=0.0, max=8677.0), HTML(value='')))"
            ]
          },
          "metadata": {
            "tags": []
          }
        },
        {
          "output_type": "stream",
          "text": [
            "\n",
            "Accuracy is  88.36\n"
          ],
          "name": "stdout"
        }
      ]
    },
    {
      "cell_type": "markdown",
      "metadata": {
        "id": "kMC087n-J8jT"
      },
      "source": [
        "####2. Accuracy of Brute Force over the PCA compressed Caltech101 features"
      ]
    },
    {
      "cell_type": "code",
      "metadata": {
        "id": "pFSR42aRJ84a"
      },
      "source": [
        "num_feature_dimensions = 100\n",
        "pca = PCA(n_components=num_feature_dimensions)\n",
        "pca.fit(feature_list)\n",
        "feature_list_compressed = pca.transform(feature_list[:])"
      ],
      "execution_count": 11,
      "outputs": []
    },
    {
      "cell_type": "code",
      "metadata": {
        "colab": {
          "base_uri": "https://localhost:8080/",
          "height": 137,
          "referenced_widgets": [
            "02c42894e37247808b6a3618ba2a929f",
            "cb01b00441374fe59f02706549d10075",
            "1ab68375f6f14ada9025eb71d3d704b9",
            "fc801abd077842dcb088860cc02356ad",
            "75e6036111a14290a1e17d1568b4d658",
            "d023894d684f4c4b80565586bea0707a",
            "57bda6fdad3b40458f70a4bf429433f7",
            "d9824b531eef4248b3c6f099f48e5e70"
          ]
        },
        "id": "M8Rg9zzaKfHA",
        "outputId": "b19c4db4-a7c2-4594-dc0f-6f2c8a37df77"
      },
      "source": [
        "calculate_accuracy(feature_list_compressed[:])"
      ],
      "execution_count": 12,
      "outputs": [
        {
          "output_type": "stream",
          "text": [
            "/usr/local/lib/python3.7/dist-packages/ipykernel_launcher.py:18: TqdmDeprecationWarning: This function will be removed in tqdm==5.0.0\n",
            "Please use `tqdm.notebook.tqdm` instead of `tqdm.tqdm_notebook`\n"
          ],
          "name": "stderr"
        },
        {
          "output_type": "display_data",
          "data": {
            "application/vnd.jupyter.widget-view+json": {
              "model_id": "02c42894e37247808b6a3618ba2a929f",
              "version_minor": 0,
              "version_major": 2
            },
            "text/plain": [
              "HBox(children=(FloatProgress(value=0.0, max=8677.0), HTML(value='')))"
            ]
          },
          "metadata": {
            "tags": []
          }
        },
        {
          "output_type": "stream",
          "text": [
            "\n",
            "Accuracy is  88.48\n"
          ],
          "name": "stdout"
        }
      ]
    },
    {
      "cell_type": "markdown",
      "metadata": {
        "id": "fGxagiP7KpCv"
      },
      "source": [
        "####3. Accuracy of Brute Force over finetuned Caltech101 features"
      ]
    },
    {
      "cell_type": "code",
      "metadata": {
        "colab": {
          "base_uri": "https://localhost:8080/",
          "height": 137,
          "referenced_widgets": [
            "cfac4dffc0c94cbdb4d8ce14f8f49d1b",
            "5f6fca5e11db4993b21478c13f85474a",
            "e694dd30ce014842a59066dae20dd761",
            "576f140179c64bdf9922ef19b765a0b6",
            "c95ed795e48348c2830762291196588c",
            "e524588a6000423a8ebdbbafd3fdfb57",
            "79bab000397e4ab8aec146f697d11f0e",
            "dc54985d509e4736834ebe332da9346e"
          ]
        },
        "id": "zXhThPhMKjp4",
        "outputId": "8e6d5df9-3289-4e92-e0ae-2bae6aafbaca"
      },
      "source": [
        "calculate_accuracy(finetuned_feature_list[:])"
      ],
      "execution_count": 19,
      "outputs": [
        {
          "output_type": "stream",
          "text": [
            "/usr/local/lib/python3.7/dist-packages/ipykernel_launcher.py:18: TqdmDeprecationWarning: This function will be removed in tqdm==5.0.0\n",
            "Please use `tqdm.notebook.tqdm` instead of `tqdm.tqdm_notebook`\n"
          ],
          "name": "stderr"
        },
        {
          "output_type": "display_data",
          "data": {
            "application/vnd.jupyter.widget-view+json": {
              "model_id": "cfac4dffc0c94cbdb4d8ce14f8f49d1b",
              "version_minor": 0,
              "version_major": 2
            },
            "text/plain": [
              "HBox(children=(FloatProgress(value=0.0, max=8677.0), HTML(value='')))"
            ]
          },
          "metadata": {
            "tags": []
          }
        },
        {
          "output_type": "stream",
          "text": [
            "\n",
            "Accuracy is  95.52\n"
          ],
          "name": "stdout"
        }
      ]
    },
    {
      "cell_type": "markdown",
      "metadata": {
        "id": "FhUS4fqZKpiT"
      },
      "source": [
        "####4. Accuracy over Brute Force over the PCA compressed finetuned Caltech101 features"
      ]
    },
    {
      "cell_type": "code",
      "metadata": {
        "id": "gkW2E58LKp0f"
      },
      "source": [
        "# Perform PCA on Finetuned features\n",
        "num_feature_dimensions = 100\n",
        "pca = PCA(n_components=num_feature_dimensions)\n",
        "pca.fit(finetuned_feature_list)\n",
        "feature_list_compressed = pca.transform(finetuned_feature_list[:])"
      ],
      "execution_count": 20,
      "outputs": []
    },
    {
      "cell_type": "code",
      "metadata": {
        "colab": {
          "base_uri": "https://localhost:8080/",
          "height": 137,
          "referenced_widgets": [
            "ae1d0cfdb2db41909fee3c6f9c0fe97d",
            "763a57ec697046fc8dec1fcb2684679c",
            "57ed9081e64241dabef4ccb3f58ebf51",
            "8e80aee7150c42c592c7ec17df7f81fd",
            "2d5f2889aba9448ba80e7f6860c9fb33",
            "418097a411d9408ea618eaba9823f445",
            "4c98943ef4f24be6bc7118761727cc2e",
            "4ad728d651024c778ae369d2f9dae5ee"
          ]
        },
        "id": "KCtCSYYgQrkk",
        "outputId": "03104a46-4ca3-40d4-8b48-037d460241ca"
      },
      "source": [
        "calculate_accuracy(feature_list_compressed[:])\n"
      ],
      "execution_count": 21,
      "outputs": [
        {
          "output_type": "stream",
          "text": [
            "/usr/local/lib/python3.7/dist-packages/ipykernel_launcher.py:18: TqdmDeprecationWarning: This function will be removed in tqdm==5.0.0\n",
            "Please use `tqdm.notebook.tqdm` instead of `tqdm.tqdm_notebook`\n"
          ],
          "name": "stderr"
        },
        {
          "output_type": "display_data",
          "data": {
            "application/vnd.jupyter.widget-view+json": {
              "model_id": "ae1d0cfdb2db41909fee3c6f9c0fe97d",
              "version_minor": 0,
              "version_major": 2
            },
            "text/plain": [
              "HBox(children=(FloatProgress(value=0.0, max=8677.0), HTML(value='')))"
            ]
          },
          "metadata": {
            "tags": []
          }
        },
        {
          "output_type": "stream",
          "text": [
            "\n",
            "Accuracy is  95.53\n"
          ],
          "name": "stdout"
        }
      ]
    },
    {
      "cell_type": "markdown",
      "metadata": {
        "id": "bXR_aEM0Q7Os"
      },
      "source": [
        "### Results\n",
        "\n",
        "Accuracy on Caltech101\n",
        "\n",
        "| Algorithm | Accuracy using Pretrained features| Accuracy using Finetuned features | \n",
        "|-------------|----------------------------|------------------------|\n",
        "| Brute Force | 88.36 | 95.52 | \n",
        "| PCA + Brute Force | 88.48  |  95.53 |\n",
        "\n",
        "\n",
        "\n",
        "---\n",
        "\n",
        "\n",
        "\n",
        "---\n",
        "\n",
        "\n"
      ]
    },
    {
      "cell_type": "markdown",
      "metadata": {
        "id": "Y14bkUGd6aBy"
      },
      "source": [
        "### t-SNE Visualization of Features : Pre-trained vs Fine-tuned \n",
        "\n",
        "In the remaining portion of this notebook, we will find the least accuract performing categories, visualize them with t-SNE, fine-tune and see how their t-SNE plot changes.\n",
        "\n"
      ]
    },
    {
      "cell_type": "markdown",
      "metadata": {
        "id": "shFIeixYKp8y"
      },
      "source": [
        "Helper function to display accuracy stats and plot similar images"
      ]
    },
    {
      "cell_type": "code",
      "metadata": {
        "id": "FHuELW8OKqRF"
      },
      "source": [
        "def display(dic, per_class, neighbors, message):\n",
        "    for key in dic:\n",
        "        print(key, \"\\tAccuracy: \", per_class[key])\n",
        "    for each_class in dic:\n",
        "        indices_of_class = [\n",
        "            i for i, j in enumerate(filenames) if classname(j) == each_class\n",
        "        ]\n",
        "        random_image_index = random.choice(indices_of_class)\n",
        "        distances, indices = neighbors.kneighbors(\n",
        "            [feature_list[random_image_index]])\n",
        "        similar_image_paths = [filenames[random_image_index]] + \\\n",
        "            [filenames[indices[0][i]] for i in range(1, 4)]\n",
        "        plot_images(similar_image_paths, distances[0], message)"
      ],
      "execution_count": 5,
      "outputs": []
    },
    {
      "cell_type": "markdown",
      "metadata": {
        "id": "PGPP2_xN5pmy"
      },
      "source": [
        "Helper function that calculates accuracy using Nearest Neighbours Brute Force algorithm and returns classes that the model performed least accurately."
      ]
    },
    {
      "cell_type": "code",
      "metadata": {
        "id": "2GPmAE8Y5pOo"
      },
      "source": [
        "def get_least_accurate_classes(feature_list):\n",
        "    per_class_acc = {}\n",
        "    num_nearest_neighbors = 5\n",
        "    num_correct_predictions = 0\n",
        "    num_incorrect_predictions = 0\n",
        "    neighbors = NearestNeighbors(n_neighbors=num_nearest_neighbors,\n",
        "                                 algorithm='brute',\n",
        "                                 metric='euclidean').fit(feature_list)\n",
        "    for i in tqdm_notebook(range(len(feature_list))):\n",
        "        distances, indices = neighbors.kneighbors([feature_list[i]])\n",
        "        for j in range(1, num_nearest_neighbors):\n",
        "            predicted_class = classname(filenames[indices[0][j]])\n",
        "            ground_truth = classname(filenames[i])\n",
        "            if (predicted_class not in per_class_acc):\n",
        "                per_class_acc[predicted_class] = [0, 0, 0]\n",
        "            if ground_truth == predicted_class:\n",
        "                num_correct_predictions += 1\n",
        "                per_class_acc[predicted_class][0] += 1\n",
        "                per_class_acc[predicted_class][2] += 1\n",
        "            else:\n",
        "                num_incorrect_predictions += 1\n",
        "                per_class_acc[predicted_class][1] += 1\n",
        "                per_class_acc[predicted_class][2] += 1\n",
        "    print(\n",
        "        \"Accuracy is \",\n",
        "        round(\n",
        "            100.0 * num_correct_predictions /\n",
        "            (1.0 * num_correct_predictions + num_incorrect_predictions), 2))\n",
        "    for key, value in per_class_acc.items():\n",
        "        per_class_acc[key] = round(100.0 * value[0] / (1.0 * value[2]), 2)\n",
        "    dic = sorted(per_class_acc, key=per_class_acc.get)\n",
        "\n",
        "    # least_accurate classes\n",
        "    print(\"\\n\\nTop 10 incorrect classifications\\n\")\n",
        "    for key in dic[:10]:\n",
        "        print(key, \"\\tAccuracy: \", per_class_acc[key])\n",
        "    return dic[:6], per_class_acc"
      ],
      "execution_count": 6,
      "outputs": []
    },
    {
      "cell_type": "code",
      "metadata": {
        "id": "8iLtGLXZIzVs"
      },
      "source": [
        "def tsne_visualize(message, names_of_least_accurate_classes, feature_list):\n",
        "\n",
        "  # Getting feature vectors of least accurate classes\n",
        "  least_accurate_feature_list = []\n",
        "  # dic object to keep count of features with 'classname' as 'key'\n",
        "  least_accurate_count = {}\n",
        "  least_accurate_filenames = []\n",
        "\n",
        "  # looping through all the filenames of Caltech101 dataset\n",
        "  for index, filename in enumerate(filenames):\n",
        "      if classname(filename) not in least_accurate_count:\n",
        "          least_accurate_count[classname(filename)] = 0\n",
        "      if classname(filename) in names_of_least_accurate_classes and least_accurate_count[classname(filename)] <= 50:\n",
        "          least_accurate_feature_list.append(feature_list[index])\n",
        "          least_accurate_count[classname(filename)] += 1\n",
        "          least_accurate_filenames.append(class_ids[index])\n",
        "\n",
        "  selected_features = least_accurate_feature_list\n",
        "  selected_class_ids = least_accurate_filenames\n",
        "  time_start = time.time()\n",
        "  tsne_results = TSNE(n_components=2, verbose=1,\n",
        "                    metric='euclidean').fit_transform(selected_features)\n",
        "  print('t-SNE done! Time elapsed: {} seconds'.format(time.time() - time_start))\n",
        "\n",
        "  plt.title(\"\\n\".join(wrap(message,60)))\n",
        "  set_classes = list(set(selected_class_ids))\n",
        "  # set different markers for representing different classes \n",
        "  markers = [\"^\", \".\", \"s\", \"o\", \"x\", \"P\"]\n",
        "  # set different colors for representing different classes\n",
        "  colors = ['red', 'blue', 'fuchsia', 'green', 'purple', 'orange']\n",
        "  class_to_marker = {}\n",
        "  class_to_color = {}\n",
        "  for index in range(len(tsne_results)):\n",
        "    # assign color and marker to each type of class\n",
        "    if selected_class_ids[index] not in class_to_marker:\n",
        "        class_to_marker[selected_class_ids[index]] = markers.pop()\n",
        "    if selected_class_ids[index] not in class_to_color:\n",
        "        class_to_color[selected_class_ids[index]] = colors.pop()\n",
        "    plt.scatter(tsne_results[index, 0],\n",
        "                tsne_results[index, 1],\n",
        "                c=class_to_color[selected_class_ids[index]],\n",
        "                marker=class_to_marker[selected_class_ids[index]],\n",
        "                edgecolor='white',\n",
        "                linewidth='.6',\n",
        "                s=90)\n",
        "  plt.show()"
      ],
      "execution_count": 42,
      "outputs": []
    },
    {
      "cell_type": "markdown",
      "metadata": {
        "id": "YuIec4I7ES58"
      },
      "source": [
        "### Classes with Worst Accuracy before Fine-tuning"
      ]
    },
    {
      "cell_type": "code",
      "metadata": {
        "colab": {
          "base_uri": "https://localhost:8080/",
          "height": 392,
          "referenced_widgets": [
            "fbf3cdd11831495d889e8c613a6cb905",
            "b1a3cd33e1dd4341a8e2c8004a99ded6",
            "dcce513d2ef64db89639258fb9563e6d",
            "923bf6ea72b14dd4945f7bd1978a7ec4",
            "6efe14176c5846dab433cd0cc3790d7c",
            "114e2b61cd2a49afae34a37b1054c3a7",
            "f6312d2311b646b7a04c328b9766f706",
            "b7cd2d62e5a443cba1fcac577f965c41"
          ]
        },
        "id": "IUW5NFQ_6NoZ",
        "outputId": "8c9550d2-1cad-4d20-8414-92999fed4aea"
      },
      "source": [
        "least_accurate_classes_before_finetuning, accuracy_per_class_before_finetuning = get_least_accurate_classes(\n",
        "    feature_list[:])"
      ],
      "execution_count": 29,
      "outputs": [
        {
          "output_type": "stream",
          "text": [
            "/usr/local/lib/python3.7/dist-packages/ipykernel_launcher.py:10: TqdmDeprecationWarning: This function will be removed in tqdm==5.0.0\n",
            "Please use `tqdm.notebook.tqdm` instead of `tqdm.tqdm_notebook`\n",
            "  # Remove the CWD from sys.path while we load stuff.\n"
          ],
          "name": "stderr"
        },
        {
          "output_type": "display_data",
          "data": {
            "application/vnd.jupyter.widget-view+json": {
              "model_id": "fbf3cdd11831495d889e8c613a6cb905",
              "version_minor": 0,
              "version_major": 2
            },
            "text/plain": [
              "HBox(children=(FloatProgress(value=0.0, max=8677.0), HTML(value='')))"
            ]
          },
          "metadata": {
            "tags": []
          }
        },
        {
          "output_type": "stream",
          "text": [
            "\n",
            "Accuracy is  88.36\n",
            "\n",
            "\n",
            "Top 10 incorrect classifications\n",
            "\n",
            "lobster \tAccuracy:  49.21\n",
            "crocodile \tAccuracy:  50.0\n",
            "water_lilly \tAccuracy:  53.21\n",
            "anchor \tAccuracy:  57.75\n",
            "octopus \tAccuracy:  59.55\n",
            "schooner \tAccuracy:  62.25\n",
            "brontosaurus \tAccuracy:  64.02\n",
            "crayfish \tAccuracy:  65.8\n",
            "ant \tAccuracy:  66.03\n",
            "bass \tAccuracy:  67.58\n"
          ],
          "name": "stdout"
        }
      ]
    },
    {
      "cell_type": "code",
      "metadata": {
        "id": "pflSq3FDGO5d",
        "outputId": "8ef6bbdf-0919-499c-d3aa-dd15f481efd4",
        "colab": {
          "base_uri": "https://localhost:8080/",
          "height": 452
        }
      },
      "source": [
        "message = \"t-SNE visualization of feature vectors of least accurate classes before fine-tuning\"\n",
        "tsne_visualize(message, least_accurate_classes_before_finetuning, feature_list)"
      ],
      "execution_count": 43,
      "outputs": [
        {
          "output_type": "stream",
          "text": [
            "[t-SNE] Computing 91 nearest neighbors...\n",
            "[t-SNE] Indexed 256 samples in 0.030s...\n",
            "[t-SNE] Computed neighbors for 256 samples in 0.324s...\n",
            "[t-SNE] Computed conditional probabilities for sample 256 / 256\n",
            "[t-SNE] Mean sigma: 0.242524\n",
            "[t-SNE] KL divergence after 250 iterations with early exaggeration: 59.609715\n",
            "[t-SNE] KL divergence after 1000 iterations: 0.478964\n",
            "t-SNE done! Time elapsed: 1.8621783256530762 seconds\n"
          ],
          "name": "stdout"
        },
        {
          "output_type": "display_data",
          "data": {
            "image/png": "[encoded data removed]",
            "text/plain": [
              "<Figure size 432x288 with 1 Axes>"
            ]
          },
          "metadata": {
            "tags": [],
            "needs_background": "light"
          }
        }
      ]
    },
    {
      "cell_type": "markdown",
      "metadata": {
        "id": "9m69YFL4N6F7"
      },
      "source": [
        "### Classes with Worst Accuracy after Fine-tuning"
      ]
    },
    {
      "cell_type": "code",
      "metadata": {
        "colab": {
          "base_uri": "https://localhost:8080/",
          "height": 392,
          "referenced_widgets": [
            "c3cf194b0b4d42d7989ef3fcd662d6a9",
            "e069f95b74df4bfcaba3c0b03cde6aff",
            "28d54843ff164239ac5e65d751ab212c",
            "2cd4000e6b3f4738888762906f0edff2",
            "ce7659ce6d35451db9bf16c9489a4967",
            "5cc4f030365741a28bb9e5631c98ec9b",
            "2b7798eb04724ba8a64b2482b7c85fb3",
            "65b785b0aca84c34a33f6b5d3ba27ee3"
          ]
        },
        "id": "Ynzb1nv3BS-W",
        "outputId": "e37bbb24-3168-46f1-af0e-ecb3e0f6ae54"
      },
      "source": [
        "least_accurate_classes_after_finetuning, accuracy_per_class_after_finetuning = get_least_accurate_classes(\n",
        "    finetuned_feature_list[:])"
      ],
      "execution_count": 31,
      "outputs": [
        {
          "output_type": "stream",
          "text": [
            "/usr/local/lib/python3.7/dist-packages/ipykernel_launcher.py:10: TqdmDeprecationWarning: This function will be removed in tqdm==5.0.0\n",
            "Please use `tqdm.notebook.tqdm` instead of `tqdm.tqdm_notebook`\n",
            "  # Remove the CWD from sys.path while we load stuff.\n"
          ],
          "name": "stderr"
        },
        {
          "output_type": "display_data",
          "data": {
            "application/vnd.jupyter.widget-view+json": {
              "model_id": "c3cf194b0b4d42d7989ef3fcd662d6a9",
              "version_minor": 0,
              "version_major": 2
            },
            "text/plain": [
              "HBox(children=(FloatProgress(value=0.0, max=8677.0), HTML(value='')))"
            ]
          },
          "metadata": {
            "tags": []
          }
        },
        {
          "output_type": "stream",
          "text": [
            "\n",
            "Accuracy is  95.52\n",
            "\n",
            "\n",
            "Top 10 incorrect classifications\n",
            "\n",
            "water_lilly \tAccuracy:  66.23\n",
            "schooner \tAccuracy:  68.77\n",
            "crayfish \tAccuracy:  74.38\n",
            "lobster \tAccuracy:  74.52\n",
            "octopus \tAccuracy:  77.97\n",
            "crocodile \tAccuracy:  78.18\n",
            "mandolin \tAccuracy:  80.49\n",
            "beaver \tAccuracy:  80.77\n",
            "brontosaurus \tAccuracy:  80.95\n",
            "lotus \tAccuracy:  81.64\n"
          ],
          "name": "stdout"
        }
      ]
    },
    {
      "cell_type": "code",
      "metadata": {
        "colab": {
          "base_uri": "https://localhost:8080/",
          "height": 452
        },
        "id": "GApwt5iiEtst",
        "outputId": "bb31a1ad-fc27-49bd-ae53-5f0f3849115a"
      },
      "source": [
        "message = \"t-SNE visualization of feature vectors of least accurate classes after fine-tuning\"\n",
        "tsne_visualize(message, least_accurate_classes_after_finetuning, finetuned_feature_list)\n"
      ],
      "execution_count": 44,
      "outputs": [
        {
          "output_type": "stream",
          "text": [
            "[t-SNE] Computing 91 nearest neighbors...\n",
            "[t-SNE] Indexed 265 samples in 0.002s...\n",
            "[t-SNE] Computed neighbors for 265 samples in 0.020s...\n",
            "[t-SNE] Computed conditional probabilities for sample 265 / 265\n",
            "[t-SNE] Mean sigma: 0.289319\n",
            "[t-SNE] KL divergence after 250 iterations with early exaggeration: 51.485455\n",
            "[t-SNE] KL divergence after 1000 iterations: 0.134770\n",
            "t-SNE done! Time elapsed: 1.478806495666504 seconds\n"
          ],
          "name": "stdout"
        },
        {
          "output_type": "display_data",
          "data": {
            "image/png": "[encoded data removed]",
            "text/plain": [
              "<Figure size 432x288 with 1 Axes>"
            ]
          },
          "metadata": {
            "tags": [],
            "needs_background": "light"
          }
        }
      ]
    },
    {
      "cell_type": "markdown",
      "metadata": {
        "id": "buDbovoaT2zE"
      },
      "source": [
        "Comparing the scattered t-SNE embeddings of pre-trained model against those of the fine-tuned model, it is observable that a Machine Learning classifier will be able to find a plane of seperation between these classes with much more ease with fine-tuned model, hence giving better classification accuracy. Moreover, for finding similar images, the fine-tune model will give improved similarity results.\n"
      ]
    }
  ]
}